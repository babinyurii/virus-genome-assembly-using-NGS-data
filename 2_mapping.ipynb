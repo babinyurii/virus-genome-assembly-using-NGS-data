{
 "cells": [
  {
   "cell_type": "markdown",
   "metadata": {},
   "source": [
    "## TODO :\n",
    "- visualize uncovered genome regions usign mpl: use horizontal lines of different colors for both mapping"
   ]
  },
  {
   "cell_type": "code",
   "execution_count": 1,
   "metadata": {},
   "outputs": [],
   "source": [
    "%%bash\n",
    "mkdir ./bowtie_out"
   ]
  },
  {
   "cell_type": "markdown",
   "metadata": {},
   "source": [
    "### 1. mapping reads:"
   ]
  },
  {
   "cell_type": "code",
   "execution_count": 2,
   "metadata": {},
   "outputs": [
    {
     "name": "stdout",
     "output_type": "stream",
     "text": [
      "./input_data/ref_AF409138.1.fasta\n"
     ]
    }
   ],
   "source": [
    "%%bash\n",
    "ls ./input_data/ref_*"
   ]
  },
  {
   "cell_type": "code",
   "execution_count": 1,
   "metadata": {},
   "outputs": [],
   "source": [
    "%%bash\n",
    "bowtie2-build --quiet \\\n",
    "./input_data/ref_AF409138.1.fasta \\\n",
    "./bowtie_out/ref_AF_index"
   ]
  },
  {
   "cell_type": "markdown",
   "metadata": {},
   "source": [
    "- `U` flag -  mapping as unpaired, as we've additionally cropped the `2P` reads"
   ]
  },
  {
   "cell_type": "code",
   "execution_count": 2,
   "metadata": {},
   "outputs": [
    {
     "name": "stderr",
     "output_type": "stream",
     "text": [
      "483301 reads; of these:\n",
      "  483301 (100.00%) were unpaired; of these:\n",
      "    326265 (67.51%) aligned 0 times\n",
      "    150720 (31.19%) aligned exactly 1 time\n",
      "    6316 (1.31%) aligned >1 times\n",
      "32.49% overall alignment rate\n"
     ]
    }
   ],
   "source": [
    "%%bash\n",
    "bowtie2 -x ./bowtie_out/ref_AF_index \\\n",
    "-U ./input_data/1_trim_crop_and_trail_32_1P.fastq \\\n",
    "-U ./input_data/2_trim_crop_and_trail_32_2P.fastq \\\n",
    "-U ./input_data/1_trim_crop_and_trail_32_1U.fastq \\\n",
    "-S ./bowtie_out/saratov_map_unpaired.sam\n"
   ]
  },
  {
   "cell_type": "code",
   "execution_count": null,
   "metadata": {},
   "outputs": [],
   "source": []
  },
  {
   "cell_type": "markdown",
   "metadata": {},
   "source": [
    "the second mapping with reads less 'clean'. here we try to get coverage of the whole genome, in spite of less quality reads\n",
    "\n",
    "the command pattern is a bit different:\n",
    "- we denote paired reads with `-1` and `-2` flags\n",
    "- unpaired go with the same `-U` flag"
   ]
  },
  {
   "cell_type": "code",
   "execution_count": 9,
   "metadata": {},
   "outputs": [
    {
     "name": "stdout",
     "output_type": "stream",
     "text": [
      "./input_data/1_trim_crop_and_trail_32_1P.fastq\n",
      "./input_data/1_trim_crop_and_trail_32_1U.fastq\n",
      "./input_data/1_trim_crop_and_trail_32_2P.fastq\n",
      "./input_data/1_trim_crop_and_trail_32_2U.fastq\n"
     ]
    }
   ],
   "source": [
    "%%bash\n",
    "ls ./input_data/*trail_32*"
   ]
  },
  {
   "cell_type": "code",
   "execution_count": 1,
   "metadata": {},
   "outputs": [
    {
     "name": "stderr",
     "output_type": "stream",
     "text": [
      "234542 reads; of these:\n",
      "  234542 (100.00%) were paired; of these:\n",
      "    154096 (65.70%) aligned concordantly 0 times\n",
      "    77343 (32.98%) aligned concordantly exactly 1 time\n",
      "    3103 (1.32%) aligned concordantly >1 times\n",
      "    ----\n",
      "    154096 pairs aligned concordantly 0 times; of these:\n",
      "      3786 (2.46%) aligned discordantly 1 time\n",
      "    ----\n",
      "    150310 pairs aligned 0 times concordantly or discordantly; of these:\n",
      "      300620 mates make up the pairs; of these:\n",
      "        293093 (97.50%) aligned 0 times\n",
      "        6911 (2.30%) aligned exactly 1 time\n",
      "        616 (0.20%) aligned >1 times\n",
      "37.52% overall alignment rate\n"
     ]
    }
   ],
   "source": [
    "%%bash\n",
    "bowtie2 -x ./bowtie_out/ref_AF_index \\\n",
    "-1 ./input_data/1_trim_crop_and_trail_32_1P.fastq \\\n",
    "-2 ./input_data/1_trim_crop_and_trail_32_2P.fastq \\\n",
    "-U ./input_data/1_trim_crop_and_trail_32_1U.fastq \\\n",
    "-U ./input_data/1_trim_crop_and_trail_32_2U.fastq \\\n",
    "-S ./bowtie_out/saratov_map_paired.sam"
   ]
  },
  {
   "cell_type": "code",
   "execution_count": null,
   "metadata": {},
   "outputs": [],
   "source": []
  },
  {
   "cell_type": "code",
   "execution_count": null,
   "metadata": {},
   "outputs": [],
   "source": []
  },
  {
   "cell_type": "code",
   "execution_count": null,
   "metadata": {},
   "outputs": [],
   "source": []
  },
  {
   "cell_type": "code",
   "execution_count": null,
   "metadata": {},
   "outputs": [],
   "source": []
  },
  {
   "cell_type": "code",
   "execution_count": null,
   "metadata": {},
   "outputs": [],
   "source": []
  },
  {
   "cell_type": "code",
   "execution_count": null,
   "metadata": {},
   "outputs": [],
   "source": []
  },
  {
   "cell_type": "code",
   "execution_count": null,
   "metadata": {},
   "outputs": [],
   "source": []
  },
  {
   "cell_type": "code",
   "execution_count": null,
   "metadata": {},
   "outputs": [],
   "source": []
  },
  {
   "cell_type": "code",
   "execution_count": null,
   "metadata": {},
   "outputs": [],
   "source": []
  },
  {
   "cell_type": "code",
   "execution_count": null,
   "metadata": {},
   "outputs": [],
   "source": []
  },
  {
   "cell_type": "code",
   "execution_count": null,
   "metadata": {},
   "outputs": [],
   "source": []
  },
  {
   "cell_type": "code",
   "execution_count": null,
   "metadata": {},
   "outputs": [],
   "source": []
  }
 ],
 "metadata": {
  "kernelspec": {
   "display_name": "Python 3",
   "language": "python",
   "name": "python3"
  },
  "language_info": {
   "codemirror_mode": {
    "name": "ipython",
    "version": 3
   },
   "file_extension": ".py",
   "mimetype": "text/x-python",
   "name": "python",
   "nbconvert_exporter": "python",
   "pygments_lexer": "ipython3",
   "version": "3.6.5"
  }
 },
 "nbformat": 4,
 "nbformat_minor": 2
}
