{
 "cells": [
  {
   "cell_type": "code",
   "execution_count": 4,
   "metadata": {},
   "outputs": [
    {
     "name": "stdout",
     "output_type": "stream",
     "text": [
      "ref.fasta\n",
      "ref.gb\n"
     ]
    }
   ],
   "source": [
    "%%bash\n",
    "ls ./input_data/ | grep ref*"
   ]
  },
  {
   "cell_type": "code",
   "execution_count": 2,
   "metadata": {},
   "outputs": [
    {
     "name": "stdout",
     "output_type": "stream",
     "text": [
      "lsdv_51.bam\n",
      "lsdv_51_depth.txt\n",
      "lsdv_51_flagstat.txt\n",
      "lsdv_51_sorted.bam\n",
      "lsdv_51_sorted_rmdup.bam\n",
      "lsdv_51_sorted_rmdup.bam.bai\n"
     ]
    }
   ],
   "source": [
    "%%bash\n",
    "ls ./samtools_out/"
   ]
  },
  {
   "cell_type": "code",
   "execution_count": 5,
   "metadata": {},
   "outputs": [
    {
     "name": "stderr",
     "output_type": "stream",
     "text": [
      "[fai_load] build FASTA index.\n",
      "[mpileup] 1 samples in 1 input files\n",
      "<mpileup> Set max per-file depth to 8000\n"
     ]
    }
   ],
   "source": [
    "%%bash\n",
    "samtools mpileup --BCF \\\n",
    "--fasta ./input_data/ref.fasta \\\n",
    "./samtools_out/lsdv_51_sorted_rmdup.bam > ./samtools_out/lsdv_51_vars.bcf"
   ]
  },
  {
   "cell_type": "code",
   "execution_count": null,
   "metadata": {},
   "outputs": [],
   "source": []
  },
  {
   "cell_type": "code",
   "execution_count": 6,
   "metadata": {},
   "outputs": [],
   "source": [
    "%%bash\n",
    "bcftools call \\\n",
    "--consensus-caller \\\n",
    "--variants-only \\\n",
    "--skip-variants indels \\\n",
    "--ploidy-file ./samtools_out/ploid.txt \\\n",
    "./samtools_out/lsdv_51_vars.bcf > ./samtools_out/lsdv_51_vars_snps.vcf"
   ]
  },
  {
   "cell_type": "code",
   "execution_count": null,
   "metadata": {},
   "outputs": [],
   "source": []
  },
  {
   "cell_type": "code",
   "execution_count": null,
   "metadata": {},
   "outputs": [],
   "source": []
  },
  {
   "cell_type": "code",
   "execution_count": null,
   "metadata": {},
   "outputs": [],
   "source": []
  },
  {
   "cell_type": "code",
   "execution_count": null,
   "metadata": {},
   "outputs": [],
   "source": []
  },
  {
   "cell_type": "code",
   "execution_count": null,
   "metadata": {},
   "outputs": [],
   "source": []
  },
  {
   "cell_type": "code",
   "execution_count": null,
   "metadata": {},
   "outputs": [],
   "source": []
  },
  {
   "cell_type": "code",
   "execution_count": null,
   "metadata": {},
   "outputs": [],
   "source": []
  }
 ],
 "metadata": {
  "kernelspec": {
   "display_name": "Python 3",
   "language": "python",
   "name": "python3"
  },
  "language_info": {
   "codemirror_mode": {
    "name": "ipython",
    "version": 3
   },
   "file_extension": ".py",
   "mimetype": "text/x-python",
   "name": "python",
   "nbconvert_exporter": "python",
   "pygments_lexer": "ipython3",
   "version": "3.6.5"
  }
 },
 "nbformat": 4,
 "nbformat_minor": 2
}
