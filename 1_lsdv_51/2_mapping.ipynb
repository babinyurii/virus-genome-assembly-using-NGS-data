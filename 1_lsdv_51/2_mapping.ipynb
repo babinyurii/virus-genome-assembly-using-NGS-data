{
 "cells": [
  {
   "cell_type": "code",
   "execution_count": 1,
   "metadata": {},
   "outputs": [],
   "source": [
    "%%bash\n",
    "mkdir ./bowtie_out"
   ]
  },
  {
   "cell_type": "code",
   "execution_count": 4,
   "metadata": {},
   "outputs": [
    {
     "name": "stdout",
     "output_type": "stream",
     "text": [
      "./input_data/ref.fasta\n"
     ]
    }
   ],
   "source": [
    "%%bash\n",
    "ls ./input_data/ref*.fasta"
   ]
  },
  {
   "cell_type": "code",
   "execution_count": 7,
   "metadata": {},
   "outputs": [],
   "source": [
    "%%bash\n",
    "bowtie2-build --quiet \\\n",
    "./input_data/ref.fasta \\\n",
    "./bowtie_out/ref_index"
   ]
  },
  {
   "cell_type": "code",
   "execution_count": 8,
   "metadata": {},
   "outputs": [
    {
     "name": "stdout",
     "output_type": "stream",
     "text": [
      "190124_HSGA_Salnikov_DNA_2019_51_P.fastq\n",
      "1_headcrop_10_crop_220.fastq\n",
      "contig.51_P\n",
      "ref.fasta\n",
      "ref.gb\n"
     ]
    }
   ],
   "source": [
    "%%bash\n",
    "ls ./input_data/"
   ]
  },
  {
   "cell_type": "code",
   "execution_count": 9,
   "metadata": {},
   "outputs": [
    {
     "name": "stderr",
     "output_type": "stream",
     "text": [
      "5290892 reads; of these:\n",
      "  5290892 (100.00%) were unpaired; of these:\n",
      "    5164448 (97.61%) aligned 0 times\n",
      "    122332 (2.31%) aligned exactly 1 time\n",
      "    4112 (0.08%) aligned >1 times\n",
      "2.39% overall alignment rate\n"
     ]
    }
   ],
   "source": [
    "%%bash\n",
    "bowtie2 -x ./bowtie_out/ref_index \\\n",
    "-U ./input_data/1_headcrop_10_crop_220.fastq \\\n",
    "-S ./bowtie_out/lsdv_51.sam\n"
   ]
  },
  {
   "cell_type": "code",
   "execution_count": 10,
   "metadata": {},
   "outputs": [
    {
     "name": "stdout",
     "output_type": "stream",
     "text": [
      "/mnt/c/Users/babin.PCR_INT/GitHub/lsdv_genome/1_lsdv_51\n"
     ]
    }
   ],
   "source": [
    "%%bash\n",
    "pwd"
   ]
  },
  {
   "cell_type": "code",
   "execution_count": 11,
   "metadata": {},
   "outputs": [],
   "source": [
    "%mkdir samtools_out"
   ]
  },
  {
   "cell_type": "code",
   "execution_count": 12,
   "metadata": {},
   "outputs": [],
   "source": [
    "%%bash\n",
    "samtools view \\\n",
    "-b -S -o \\\n",
    "./samtools_out/lsdv_51.bam \\\n",
    "./bowtie_out/lsdv_51.sam "
   ]
  },
  {
   "cell_type": "code",
   "execution_count": null,
   "metadata": {},
   "outputs": [],
   "source": []
  },
  {
   "cell_type": "markdown",
   "metadata": {},
   "source": [
    "## TO NOTES:\n"
   ]
  },
  {
   "cell_type": "code",
   "execution_count": 13,
   "metadata": {},
   "outputs": [
    {
     "name": "stderr",
     "output_type": "stream",
     "text": [
      "[bam_pileup_core] the input is not sorted (reads out of order)\n"
     ]
    }
   ],
   "source": [
    "%%bash\n",
    "samtools depth -a ./samtools_out/lsdv_51.bam > ./samtools_out/lsdv_51_cov_depth.txt"
   ]
  },
  {
   "cell_type": "code",
   "execution_count": null,
   "metadata": {},
   "outputs": [],
   "source": []
  },
  {
   "cell_type": "code",
   "execution_count": null,
   "metadata": {},
   "outputs": [],
   "source": []
  },
  {
   "cell_type": "code",
   "execution_count": null,
   "metadata": {},
   "outputs": [],
   "source": []
  }
 ],
 "metadata": {
  "kernelspec": {
   "display_name": "Python 3",
   "language": "python",
   "name": "python3"
  },
  "language_info": {
   "codemirror_mode": {
    "name": "ipython",
    "version": 3
   },
   "file_extension": ".py",
   "mimetype": "text/x-python",
   "name": "python",
   "nbconvert_exporter": "python",
   "pygments_lexer": "ipython3",
   "version": "3.6.5"
  }
 },
 "nbformat": 4,
 "nbformat_minor": 2
}
