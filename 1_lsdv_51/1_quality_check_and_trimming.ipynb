{
 "cells": [
  {
   "cell_type": "code",
   "execution_count": 36,
   "metadata": {},
   "outputs": [
    {
     "name": "stdout",
     "output_type": "stream",
     "text": [
      "190124_HSGA.Salnikov_DNA_2019.51_P.fastq\n",
      "contig.51_P\n",
      "ref.fasta\n",
      "ref.gb\n"
     ]
    }
   ],
   "source": [
    "%%bash\n",
    "ls ./input_data/"
   ]
  },
  {
   "cell_type": "markdown",
   "metadata": {},
   "source": [
    "#### illumina formats are described in here:\n",
    "\n",
    "https://en.wikipedia.org/wiki/FASTQ_format"
   ]
  },
  {
   "cell_type": "markdown",
   "metadata": {},
   "source": [
    "the first number after the whitespace (```1:N:0:CCAACA```):\n",
    "- 1 - read is the first from pair\n",
    "- 2 - read is the second from pair"
   ]
  },
  {
   "cell_type": "code",
   "execution_count": 37,
   "metadata": {},
   "outputs": [
    {
     "name": "stdout",
     "output_type": "stream",
     "text": [
      "@HISEQ:437:HTMH3BCX2:1:1101:1800:1996 1:N:0:CCAACA\n"
     ]
    }
   ],
   "source": [
    "%%bash\n",
    "head -n 1 ./input_data/190124_HSGA.Salnikov_DNA_2019.51_P.fastq"
   ]
  },
  {
   "cell_type": "code",
   "execution_count": 47,
   "metadata": {},
   "outputs": [],
   "source": [
    "from Bio.SeqIO.QualityIO import FastqGeneralIterator"
   ]
  },
  {
   "cell_type": "code",
   "execution_count": 39,
   "metadata": {},
   "outputs": [
    {
     "name": "stdout",
     "output_type": "stream",
     "text": [
      "total reads:  5290892\n",
      "unique reads by id:  5290892\n"
     ]
    }
   ],
   "source": [
    "with open(\"./input_data/190124_HSGA.Salnikov_DNA_2019.51_P.fastq\") as in_handle:\n",
    "    read_counter = 0\n",
    "    read_ids = []\n",
    "    for title, seq, qual in FastqGeneralIterator(in_handle):\n",
    "        read_counter += 1\n",
    "        read_ids.append(title.split(\" \")[0])\n",
    "\n",
    "print(\"total reads: \", read_counter)\n",
    "print(\"unique reads by id: \", len(set(read_ids)))"
   ]
  },
  {
   "cell_type": "markdown",
   "metadata": {},
   "source": [
    "#### another variant\n",
    "- here we check up \"1\" and \"2\" characters at the start of the string after the whitespace: ```1:N:0:CCAACA```"
   ]
  },
  {
   "cell_type": "code",
   "execution_count": 40,
   "metadata": {},
   "outputs": [
    {
     "name": "stdout",
     "output_type": "stream",
     "text": [
      "total number of reads:  5290892\n",
      "reads that are 1st from pair:  5290892\n",
      "reads that are 2nd from pair:  0\n"
     ]
    }
   ],
   "source": [
    "with open(\"./input_data/190124_HSGA.Salnikov_DNA_2019.51_P.fastq\") as in_handle:\n",
    "    seq_counter = 0\n",
    "    read_1st_pair = 0\n",
    "    read_2nd_pair = 0\n",
    "    for title, seq, qual in FastqGeneralIterator(in_handle):\n",
    "        seq_counter += 1\n",
    "        title_1, title_2 = title.split(\" \")\n",
    "        if title_2[0] == \"1\":\n",
    "            read_1st_pair += 1\n",
    "        elif title_2[0] == \"2\":\n",
    "            read_2nd_pair += 1\n",
    "            \n",
    "print(\"total number of reads: \", seq_counter)\n",
    "print(\"reads that are 1st from pair: \", read_1st_pair)\n",
    "print(\"reads that are 2nd from pair: \", read_2nd_pair)\n",
    "        "
   ]
  },
  {
   "cell_type": "code",
   "execution_count": 1,
   "metadata": {},
   "outputs": [],
   "source": [
    "%%bash\n",
    "mkdir ./fastqc_out"
   ]
  },
  {
   "cell_type": "code",
   "execution_count": 12,
   "metadata": {},
   "outputs": [
    {
     "name": "stdout",
     "output_type": "stream",
     "text": [
      "190124_HSGA_Salnikov_DNA_2019_51_P.fastq\n",
      "contig.51_P\n",
      "ref.fasta\n",
      "ref.gb\n"
     ]
    }
   ],
   "source": [
    "%%bash\n",
    "ls ./input_data"
   ]
  },
  {
   "cell_type": "code",
   "execution_count": 13,
   "metadata": {},
   "outputs": [
    {
     "name": "stderr",
     "output_type": "stream",
     "text": [
      "TrimmomaticSE: Started with arguments:\n",
      " ./input_data/190124_HSGA_Salnikov_DNA_2019_51_P.fastq ./input_data/1_headcrop_10_crop_220.fastq ILLUMINACLIP:/home/yuriy/Trimmomatic-0.38/adapters/NexteraPE-PE.fa:2:30:10 CROP:220 HEADCROP:10 MINLEN:21\n",
      "Automatically using 4 threads\n",
      "Using PrefixPair: 'AGATGTGTATAAGAGACAG' and 'AGATGTGTATAAGAGACAG'\n",
      "Using Long Clipping Sequence: 'GTCTCGTGGGCTCGGAGATGTGTATAAGAGACAG'\n",
      "Using Long Clipping Sequence: 'TCGTCGGCAGCGTCAGATGTGTATAAGAGACAG'\n",
      "Using Long Clipping Sequence: 'CTGTCTCTTATACACATCTCCGAGCCCACGAGAC'\n",
      "Using Long Clipping Sequence: 'CTGTCTCTTATACACATCTGACGCTGCCGACGA'\n",
      "ILLUMINACLIP: Using 1 prefix pairs, 4 forward/reverse sequences, 0 forward only sequences, 0 reverse only sequences\n",
      "Quality encoding detected as phred33\n",
      "Input Reads: 5290892 Surviving: 5290892 (100.00%) Dropped: 0 (0.00%)\n",
      "TrimmomaticSE: Completed successfully\n"
     ]
    }
   ],
   "source": [
    "%%bash\n",
    "java -jar /home/yuriy/Trimmomatic-0.38/trimmomatic-0.38.jar \\\n",
    "SE \\\n",
    "./input_data/190124_HSGA_Salnikov_DNA_2019_51_P.fastq \\\n",
    "./input_data/1_headcrop_10_crop_220.fastq \\\n",
    "ILLUMINACLIP:/home/yuriy/Trimmomatic-0.38/adapters/NexteraPE-PE.fa:2:30:10 \\\n",
    "CROP:220 \\\n",
    "HEADCROP:10 \\\n",
    "MINLEN:21"
   ]
  },
  {
   "cell_type": "code",
   "execution_count": null,
   "metadata": {},
   "outputs": [],
   "source": []
  },
  {
   "cell_type": "code",
   "execution_count": null,
   "metadata": {},
   "outputs": [],
   "source": []
  },
  {
   "cell_type": "code",
   "execution_count": null,
   "metadata": {},
   "outputs": [],
   "source": []
  },
  {
   "cell_type": "code",
   "execution_count": null,
   "metadata": {},
   "outputs": [],
   "source": []
  },
  {
   "cell_type": "code",
   "execution_count": null,
   "metadata": {},
   "outputs": [],
   "source": []
  },
  {
   "cell_type": "code",
   "execution_count": null,
   "metadata": {},
   "outputs": [],
   "source": []
  },
  {
   "cell_type": "code",
   "execution_count": null,
   "metadata": {},
   "outputs": [],
   "source": []
  },
  {
   "cell_type": "code",
   "execution_count": null,
   "metadata": {},
   "outputs": [],
   "source": []
  },
  {
   "cell_type": "code",
   "execution_count": null,
   "metadata": {},
   "outputs": [],
   "source": []
  },
  {
   "cell_type": "code",
   "execution_count": null,
   "metadata": {},
   "outputs": [],
   "source": []
  },
  {
   "cell_type": "code",
   "execution_count": null,
   "metadata": {},
   "outputs": [],
   "source": []
  },
  {
   "cell_type": "code",
   "execution_count": null,
   "metadata": {},
   "outputs": [],
   "source": []
  },
  {
   "cell_type": "code",
   "execution_count": null,
   "metadata": {},
   "outputs": [],
   "source": []
  }
 ],
 "metadata": {
  "kernelspec": {
   "display_name": "Python 3",
   "language": "python",
   "name": "python3"
  },
  "language_info": {
   "codemirror_mode": {
    "name": "ipython",
    "version": 3
   },
   "file_extension": ".py",
   "mimetype": "text/x-python",
   "name": "python",
   "nbconvert_exporter": "python",
   "pygments_lexer": "ipython3",
   "version": "3.6.5"
  }
 },
 "nbformat": 4,
 "nbformat_minor": 2
}
