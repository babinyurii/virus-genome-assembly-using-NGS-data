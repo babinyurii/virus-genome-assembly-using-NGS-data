{
 "cells": [
  {
   "cell_type": "markdown",
   "metadata": {},
   "source": [
    "####  consensus calling\n",
    "- to create consensus we apply variants to the reference\n",
    "\n",
    "#### NOTE : if we want to get consensus, we'll have to redo the calling step, as bcftools can apply only files compressed with bgzip to the reference. If we want just to get vcf file, we don't need this step \n",
    "\n",
    "the command `-Oz -o` means ouput in bzip format \n",
    "1. we need this compressed format to get consensus (otherwise it doesn't work)\n",
    "2. then we must index compressed `vcf` file, we need it derive consensus as well"
   ]
  },
  {
   "cell_type": "markdown",
   "metadata": {},
   "source": [
    "#### 1. creating compressed vcf :"
   ]
  },
  {
   "cell_type": "code",
   "execution_count": 2,
   "metadata": {},
   "outputs": [],
   "source": [
    "%%bash\n",
    "bcftools call \\\n",
    "--consensus-caller \\\n",
    "--variants-only \\\n",
    "--skip-variants indels \\\n",
    "--ploidy-file ./samtools_out/ploid.txt \\\n",
    "./samtools_out/lsdv_51_vars.bcf \\\n",
    "-Oz -o ./samtools_out/lsdv_51_vars_for_consensus.vcf.gz \\\n"
   ]
  },
  {
   "cell_type": "markdown",
   "metadata": {},
   "source": [
    "#### 2. indexing compressed vcf file"
   ]
  },
  {
   "cell_type": "code",
   "execution_count": 3,
   "metadata": {},
   "outputs": [],
   "source": [
    "%%bash\n",
    "bcftools tabix -p vcf ./samtools_out/lsdv_51_vars_for_consensus.vcf.gz"
   ]
  },
  {
   "cell_type": "code",
   "execution_count": 4,
   "metadata": {},
   "outputs": [
    {
     "name": "stderr",
     "output_type": "stream",
     "text": [
      "Note: the --sample option not given, applying all records\n"
     ]
    }
   ],
   "source": [
    "%%bash\n",
    "cat ./input_data/ref.fasta | \\\n",
    "bcftools consensus \\\n",
    "./samtools_out/lsdv_51_vars_for_consensus.vcf.gz \\\n",
    "> ./samtools_out/consensus_lsdv_51_based_on_dagestan.fasta"
   ]
  },
  {
   "cell_type": "code",
   "execution_count": null,
   "metadata": {},
   "outputs": [],
   "source": []
  },
  {
   "cell_type": "markdown",
   "metadata": {},
   "source": [
    "#### applying all records: both snps and indels"
   ]
  },
  {
   "cell_type": "code",
   "execution_count": 1,
   "metadata": {},
   "outputs": [],
   "source": [
    "%%bash\n",
    "bcftools call \\\n",
    "--consensus-caller \\\n",
    "--variants-only \\\n",
    "--ploidy-file ./samtools_out/ploid.txt \\\n",
    "./samtools_out/lsdv_51_vars.bcf \\\n",
    "-Oz -o ./samtools_out/lsdv_51_vars_for_consensus_indels_in.vcf.gz \\\n"
   ]
  },
  {
   "cell_type": "code",
   "execution_count": 2,
   "metadata": {},
   "outputs": [],
   "source": [
    "%%bash\n",
    "bcftools tabix -p vcf ./samtools_out/lsdv_51_vars_for_consensus_indels_in.vcf.gz"
   ]
  },
  {
   "cell_type": "code",
   "execution_count": 3,
   "metadata": {},
   "outputs": [
    {
     "name": "stderr",
     "output_type": "stream",
     "text": [
      "Note: the --sample option not given, applying all records\n",
      "The site MH893760.2:11571 overlaps with another variant, skipping...\n",
      "The site MH893760.2:12057 overlaps with another variant, skipping...\n",
      "The site MH893760.2:57907 overlaps with another variant, skipping...\n",
      "The site MH893760.2:140558 overlaps with another variant, skipping...\n",
      "The site MH893760.2:145029 overlaps with another variant, skipping...\n"
     ]
    }
   ],
   "source": [
    "%%bash\n",
    "cat ./input_data/ref.fasta | \\\n",
    "bcftools consensus \\\n",
    "./samtools_out/lsdv_51_vars_for_consensus_indels_in.vcf.gz \\\n",
    "> ./samtools_out/consensus_lsdv_51_based_on_dagestan_indels_in.fasta"
   ]
  },
  {
   "cell_type": "code",
   "execution_count": null,
   "metadata": {},
   "outputs": [],
   "source": []
  },
  {
   "cell_type": "code",
   "execution_count": null,
   "metadata": {},
   "outputs": [],
   "source": []
  },
  {
   "cell_type": "code",
   "execution_count": null,
   "metadata": {},
   "outputs": [],
   "source": []
  },
  {
   "cell_type": "code",
   "execution_count": null,
   "metadata": {},
   "outputs": [],
   "source": []
  },
  {
   "cell_type": "code",
   "execution_count": null,
   "metadata": {},
   "outputs": [],
   "source": []
  }
 ],
 "metadata": {
  "kernelspec": {
   "display_name": "Python 3",
   "language": "python",
   "name": "python3"
  },
  "language_info": {
   "codemirror_mode": {
    "name": "ipython",
    "version": 3
   },
   "file_extension": ".py",
   "mimetype": "text/x-python",
   "name": "python",
   "nbconvert_exporter": "python",
   "pygments_lexer": "ipython3",
   "version": "3.6.5"
  }
 },
 "nbformat": 4,
 "nbformat_minor": 2
}
