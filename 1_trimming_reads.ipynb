{
 "cells": [
  {
   "cell_type": "markdown",
   "metadata": {},
   "source": [
    "- input file are illumina paired-end reads. "
   ]
  },
  {
   "cell_type": "markdown",
   "metadata": {},
   "source": [
    "## 1. quality of the raw data"
   ]
  },
  {
   "cell_type": "code",
   "execution_count": 4,
   "metadata": {},
   "outputs": [],
   "source": [
    "%%bash\n",
    "mkdir fastqc_out"
   ]
  },
  {
   "cell_type": "code",
   "execution_count": 5,
   "metadata": {},
   "outputs": [
    {
     "name": "stdout",
     "output_type": "stream",
     "text": [
      "SUD-Saratov_S1_L001_R1_001.fastq\n",
      "SUD-Saratov_S1_L001_R2_001.fastq\n"
     ]
    }
   ],
   "source": [
    "%%bash\n",
    "ls input_data"
   ]
  },
  {
   "cell_type": "code",
   "execution_count": 8,
   "metadata": {},
   "outputs": [],
   "source": [
    "%%bash\n",
    "fastqc \\\n",
    "./input_data/SUD-Saratov_S1_L001_R1_001.fastq \\\n",
    "./input_data/SUD-Saratov_S1_L001_R2_001.fastq \\\n",
    "--quiet \\\n",
    "-o ./fastqc_out"
   ]
  },
  {
   "cell_type": "code",
   "execution_count": 9,
   "metadata": {},
   "outputs": [
    {
     "name": "stdout",
     "output_type": "stream",
     "text": [
      "SUD-Saratov_S1_L001_R1_001_fastqc.html\n",
      "SUD-Saratov_S1_L001_R1_001_fastqc.zip\n",
      "SUD-Saratov_S1_L001_R2_001_fastqc.html\n",
      "SUD-Saratov_S1_L001_R2_001_fastqc.zip\n",
      "per_base_quality_R1.png\n",
      "per_base_quality_R2.png\n",
      "per_base_sequence_content_R1.png\n",
      "per_base_sequence_content_R2.png\n"
     ]
    }
   ],
   "source": [
    "%%bash\n",
    "ls ./fastqc_out/"
   ]
  },
  {
   "cell_type": "markdown",
   "metadata": {},
   "source": [
    "#### quality and base content plots of the `1R` file :"
   ]
  },
  {
   "cell_type": "markdown",
   "metadata": {},
   "source": [
    "![qual_r1](./fastqc_out/per_base_quality_R1.png)"
   ]
  },
  {
   "cell_type": "markdown",
   "metadata": {},
   "source": [
    "![base_r1](./fastqc_out/per_base_sequence_content_R1.png)"
   ]
  },
  {
   "cell_type": "markdown",
   "metadata": {},
   "source": [
    "#### quality and base content plots of the `1R` file :"
   ]
  },
  {
   "cell_type": "markdown",
   "metadata": {},
   "source": [
    "![qual_r2](./fastqc_out/per_base_quality_R2.png)"
   ]
  },
  {
   "cell_type": "markdown",
   "metadata": {},
   "source": [
    "![base_r2](./fastqc_out/per_base_sequence_content_R2.png)"
   ]
  },
  {
   "cell_type": "markdown",
   "metadata": {},
   "source": [
    "## 2. trimming reads"
   ]
  },
  {
   "cell_type": "markdown",
   "metadata": {},
   "source": [
    "this trimming strategy is simple yet effective. If we'll chase the quality, we loose too many reads. \n",
    "- quality and base content are nearly at the same position, which we'll take as cropping points "
   ]
  },
  {
   "cell_type": "code",
   "execution_count": 4,
   "metadata": {},
   "outputs": [
    {
     "name": "stderr",
     "output_type": "stream",
     "text": [
      "TrimmomaticPE: Started with arguments:\n",
      " ./input_data/SUD-Saratov_S1_L001_R1_001.fastq ./input_data/SUD-Saratov_S1_L001_R2_001.fastq ./input_data/1_trim_crop_and_trail_32_1P.fastq ./input_data/1_trim_crop_and_trail_32_1U.fastq ./input_data/1_trim_crop_and_trail_32_2P.fastq ./input_data/1_trim_crop_and_trail_32_2U.fastq ILLUMINACLIP:/home/yuriy/Trimmomatic-0.38/adapters/NexteraPE-PE.fa:2:30:10 CROP:60 HEADCROP:15 TRAILING:32 MINLEN:21\n",
      "Multiple cores found: Using 4 threads\n",
      "Using PrefixPair: 'AGATGTGTATAAGAGACAG' and 'AGATGTGTATAAGAGACAG'\n",
      "Using Long Clipping Sequence: 'GTCTCGTGGGCTCGGAGATGTGTATAAGAGACAG'\n",
      "Using Long Clipping Sequence: 'TCGTCGGCAGCGTCAGATGTGTATAAGAGACAG'\n",
      "Using Long Clipping Sequence: 'CTGTCTCTTATACACATCTCCGAGCCCACGAGAC'\n",
      "Using Long Clipping Sequence: 'CTGTCTCTTATACACATCTGACGCTGCCGACGA'\n",
      "ILLUMINACLIP: Using 1 prefix pairs, 4 forward/reverse sequences, 0 forward only sequences, 0 reverse only sequences\n",
      "Quality encoding detected as phred33\n",
      "Input Read Pairs: 250608 Both Surviving: 234542 (93.59%) Forward Only Surviving: 14217 (5.67%) Reverse Only Surviving: 1351 (0.54%) Dropped: 498 (0.20%)\n",
      "TrimmomaticPE: Completed successfully\n"
     ]
    }
   ],
   "source": [
    "%%bash\n",
    "java -jar /home/yuriy/Trimmomatic-0.38/trimmomatic-0.38.jar \\\n",
    "PE \\\n",
    "./input_data/SUD-Saratov_S1_L001_R1_001.fastq \\\n",
    "./input_data/SUD-Saratov_S1_L001_R2_001.fastq \\\n",
    "./input_data/1_trim_crop_and_trail_32_1P.fastq \\\n",
    "./input_data/1_trim_crop_and_trail_32_1U.fastq \\\n",
    "./input_data/1_trim_crop_and_trail_32_2P.fastq \\\n",
    "./input_data/1_trim_crop_and_trail_32_2U.fastq \\\n",
    "ILLUMINACLIP:/home/yuriy/Trimmomatic-0.38/adapters/NexteraPE-PE.fa:2:30:10 \\\n",
    "CROP:60 \\\n",
    "HEADCROP:15 \\\n",
    "TRAILING:32 \\\n",
    "MINLEN:21"
   ]
  },
  {
   "cell_type": "markdown",
   "metadata": {},
   "source": [
    "## 2. checking up quality after trimming :"
   ]
  },
  {
   "cell_type": "code",
   "execution_count": null,
   "metadata": {},
   "outputs": [],
   "source": [
    "%%bash\n",
    "fastqc \\\n",
    "./input_data/1_trim_crop_and_trail_32_1P.fastq \\\n",
    "./input_data/1_trim_crop_and_trail_32_1U.fastq \\\n",
    "./input_data/1_trim_crop_and_trail_32_2P.fastq \\\n",
    "./input_data/1_trim_crop_and_trail_32_2U.fastq \\\n",
    "--quiet \\\n",
    "-o ./fastqc_out"
   ]
  },
  {
   "cell_type": "markdown",
   "metadata": {},
   "source": [
    "#### quality and base content plots of the 1P file :"
   ]
  },
  {
   "cell_type": "markdown",
   "metadata": {},
   "source": [
    "![qual_p1](./fastqc_out/per_base_quality_1P.png)"
   ]
  },
  {
   "cell_type": "markdown",
   "metadata": {},
   "source": [
    "![base_p1](./fastqc_out/per_base_sequence_content_1P.png)"
   ]
  },
  {
   "cell_type": "markdown",
   "metadata": {},
   "source": [
    "#### quality and base content plots of the `2P` file :"
   ]
  },
  {
   "cell_type": "markdown",
   "metadata": {},
   "source": [
    "![qual_p2](./fastqc_out/per_base_quality_2P.png)"
   ]
  },
  {
   "cell_type": "markdown",
   "metadata": {},
   "source": [
    "![base_p2](./fastqc_out/per_base_sequence_content_2P.png)"
   ]
  },
  {
   "cell_type": "markdown",
   "metadata": {},
   "source": [
    "#### quality and base content plots of the `1U` file :"
   ]
  },
  {
   "cell_type": "markdown",
   "metadata": {},
   "source": [
    "![qual_u1](./fastqc_out/per_base_quality_1U.png)"
   ]
  },
  {
   "cell_type": "markdown",
   "metadata": {},
   "source": [
    "![base_u1](./fastqc_out/per_base_sequence_content_1U.png)"
   ]
  },
  {
   "cell_type": "markdown",
   "metadata": {},
   "source": [
    "#### quality and base content plots of the `1U` file :"
   ]
  },
  {
   "cell_type": "markdown",
   "metadata": {},
   "source": [
    "![qual_u2](./fastqc_out/per_base_quality_2U.png)"
   ]
  },
  {
   "cell_type": "markdown",
   "metadata": {},
   "source": [
    "![base_u2](./fastqc_out/per_base_sequence_content_2U.png)"
   ]
  },
  {
   "cell_type": "markdown",
   "metadata": {},
   "source": [
    "## recropping the `2P` file :"
   ]
  },
  {
   "cell_type": "code",
   "execution_count": 1,
   "metadata": {},
   "outputs": [
    {
     "name": "stderr",
     "output_type": "stream",
     "text": [
      "TrimmomaticSE: Started with arguments:\n",
      " ./input_data/1_trim_crop_and_trail_32_2P.fastq ./input_data/2_trim_crop_and_trail_32_2P.fastq CROP:28\n",
      "Automatically using 4 threads\n",
      "Quality encoding detected as phred33\n",
      "Input Reads: 234542 Surviving: 234542 (100.00%) Dropped: 0 (0.00%)\n",
      "TrimmomaticSE: Completed successfully\n"
     ]
    }
   ],
   "source": [
    "%%bash\n",
    "java -jar /home/yuriy/Trimmomatic-0.38/trimmomatic-0.38.jar \\\n",
    "SE \\\n",
    "./input_data/1_trim_crop_and_trail_32_2P.fastq \\\n",
    "./input_data/2_trim_crop_and_trail_32_2P.fastq \\\n",
    "CROP:28 \\"
   ]
  },
  {
   "cell_type": "markdown",
   "metadata": {},
   "source": [
    "## checking up quality of the `2P` file after the second trimming :"
   ]
  },
  {
   "cell_type": "code",
   "execution_count": 4,
   "metadata": {},
   "outputs": [],
   "source": [
    "%%bash\n",
    "fastqc \\\n",
    "./input_data/2_trim_crop_and_trail_32_2P.fastq \\\n",
    "--quiet \\\n",
    "-o ./fastqc_out"
   ]
  },
  {
   "cell_type": "markdown",
   "metadata": {},
   "source": [
    "![qual_u2](./fastqc_out/per_base_quality_2P_2.png)"
   ]
  },
  {
   "cell_type": "markdown",
   "metadata": {},
   "source": [
    "![qual_u2](./fastqc_out/per_base_sequence_content_2P_2.png)"
   ]
  },
  {
   "cell_type": "code",
   "execution_count": null,
   "metadata": {},
   "outputs": [],
   "source": []
  },
  {
   "cell_type": "code",
   "execution_count": null,
   "metadata": {},
   "outputs": [],
   "source": []
  },
  {
   "cell_type": "code",
   "execution_count": null,
   "metadata": {},
   "outputs": [],
   "source": []
  }
 ],
 "metadata": {
  "kernelspec": {
   "display_name": "Python 3",
   "language": "python",
   "name": "python3"
  },
  "language_info": {
   "codemirror_mode": {
    "name": "ipython",
    "version": 3
   },
   "file_extension": ".py",
   "mimetype": "text/x-python",
   "name": "python",
   "nbconvert_exporter": "python",
   "pygments_lexer": "ipython3",
   "version": "3.6.5"
  }
 },
 "nbformat": 4,
 "nbformat_minor": 2
}
