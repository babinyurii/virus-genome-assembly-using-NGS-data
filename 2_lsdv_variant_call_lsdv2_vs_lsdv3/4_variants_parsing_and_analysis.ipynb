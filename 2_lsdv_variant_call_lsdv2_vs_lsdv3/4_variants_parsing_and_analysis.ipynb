{
 "cells": [
  {
   "cell_type": "code",
   "execution_count": 1,
   "metadata": {},
   "outputs": [],
   "source": [
    "import vcf"
   ]
  },
  {
   "cell_type": "markdown",
   "metadata": {},
   "source": [
    "- indels are detected in poly A and poly T sites, or in the TA repeats. \n",
    "\n",
    "These issue is addressed here : http://seqanswers.com/forums/showthread.php?t=47721\n",
    "- so, we don't take them into account"
   ]
  },
  {
   "cell_type": "code",
   "execution_count": 4,
   "metadata": {
    "scrolled": true
   },
   "outputs": [
    {
     "name": "stdout",
     "output_type": "stream",
     "text": [
      "Record(CHROM=MH893760.2, POS=11566, REF=TTTATTAT, ALT=[TTTAT])\n",
      "23\n",
      "[1, 1, 3, 8]\n",
      "{'INDEL': True, 'IDV': 8, 'IMF': 0.347826, 'DP': 23, 'VDB': 0.579086, 'SGB': -0.676189, 'MQSB': 0.785785, 'MQ0F': 0.173913, 'AF1': 1.0, 'AC1': 1.0, 'DP4': [1, 1, 3, 8], 'MQ': 13, 'FQ': -999.0, 'PV4': [1.0, 1.0, 1.0, 1.0]}\n",
      "--------------------\n",
      "Record(CHROM=MH893760.2, POS=12057, REF=GTTTTTTTTTTT, ALT=[GTTTTTTTTTTTTT])\n",
      "37\n",
      "[1, 0, 0, 11]\n",
      "{'INDEL': True, 'IDV': 4, 'IMF': 0.108108, 'DP': 37, 'VDB': 0.118797, 'SGB': -0.676189, 'MQSB': 1.0, 'MQ0F': 0.0810811, 'AF1': 1.0, 'AC1': 1.0, 'DP4': [1, 0, 0, 11], 'MQ': 21, 'FQ': -999.0, 'PV4': [0.0833333, 1.0, 1.0, 1.0]}\n",
      "--------------------\n",
      "Record(CHROM=MH893760.2, POS=16010, REF=TAAAAAAAAA, ALT=[TAAAAAAAAAA])\n",
      "15\n",
      "[0, 0, 1, 5]\n",
      "{'INDEL': True, 'IDV': 4, 'IMF': 0.266667, 'DP': 15, 'VDB': 0.258434, 'SGB': -0.616816, 'MQSB': 1.0, 'MQ0F': 0.0, 'AF1': 1.0, 'AC1': 1.0, 'DP4': [0, 0, 1, 5], 'MQ': 33, 'FQ': -999.0}\n",
      "--------------------\n",
      "Record(CHROM=MH893760.2, POS=18168, REF=CTTTTTTTT, ALT=[CTTTTTTT])\n",
      "22\n",
      "[0, 0, 5, 9]\n",
      "{'INDEL': True, 'IDV': 11, 'IMF': 0.5, 'DP': 22, 'VDB': 0.215711, 'SGB': -0.686358, 'MQSB': 0.945959, 'MQ0F': 0.0, 'AF1': 1.0, 'AC1': 1.0, 'DP4': [0, 0, 5, 9], 'MQ': 39, 'FQ': -999.0}\n",
      "--------------------\n",
      "Record(CHROM=MH893760.2, POS=27951, REF=ATTTTTTTTTTT, ALT=[ATTTTTTTTTTTT])\n",
      "24\n",
      "[0, 0, 7, 2]\n",
      "{'INDEL': True, 'IDV': 6, 'IMF': 0.25, 'DP': 24, 'VDB': 0.256052, 'SGB': -0.662043, 'MQSB': 0.857143, 'MQ0F': 0.0416667, 'AF1': 1.0, 'AC1': 1.0, 'DP4': [0, 0, 7, 2], 'MQ': 39, 'FQ': -999.0}\n",
      "--------------------\n",
      "Record(CHROM=MH893760.2, POS=40202, REF=ATTTTTTT, ALT=[ATTTTTT])\n",
      "39\n",
      "[0, 0, 8, 11]\n",
      "{'INDEL': True, 'IDV': 17, 'IMF': 0.435897, 'DP': 39, 'VDB': 0.570435, 'SGB': -0.69168, 'MQSB': 0.488331, 'MQ0F': 0.0, 'AF1': 1.0, 'AC1': 1.0, 'DP4': [0, 0, 8, 11], 'MQ': 37, 'FQ': -999.0}\n",
      "--------------------\n",
      "Record(CHROM=MH893760.2, POS=57346, REF=CAAAAAAAA, ALT=[CAAAAAAAAA, CAAAAAAAAAA])\n",
      "27\n",
      "[0, 0, 3, 9]\n",
      "{'INDEL': True, 'IDV': 13, 'IMF': 0.481481, 'DP': 27, 'VDB': 0.037212, 'SGB': -0.680642, 'MQSB': 0.334869, 'MQ0F': 0.0, 'AF1': 1.0, 'AC1': 1.0, 'DP4': [0, 0, 3, 9], 'MQ': 32, 'FQ': -999.0}\n",
      "--------------------\n",
      "Record(CHROM=MH893760.2, POS=57992, REF=ATTTTTTTT, ALT=[ATTTTTTTTT])\n",
      "109\n",
      "[0, 0, 2, 54]\n",
      "{'INDEL': True, 'IDV': 55, 'IMF': 0.504587, 'DP': 109, 'VDB': 4.31862e-21, 'SGB': -0.693147, 'MQSB': 0.898148, 'MQ0F': 0.0, 'AF1': 1.0, 'AC1': 1.0, 'DP4': [0, 0, 2, 54], 'MQ': 35, 'FQ': -999.0}\n",
      "--------------------\n",
      "Record(CHROM=MH893760.2, POS=84130, REF=ATTTTT, ALT=[ATTTTTT])\n",
      "17\n",
      "[0, 2, 3, 2]\n",
      "{'INDEL': True, 'IDV': 3, 'IMF': 0.176471, 'DP': 17, 'VDB': 0.358597, 'SGB': -0.590765, 'MQSB': 0.810265, 'MQ0F': 0.0588235, 'AF1': 1.0, 'AC1': 1.0, 'DP4': [0, 2, 3, 2], 'MQ': 32, 'FQ': -999.0, 'PV4': [0.428571, 1.0, 1.0, 1.0]}\n",
      "--------------------\n",
      "Record(CHROM=MH893760.2, POS=89921, REF=TGAAGAAGAAGAAGAAGAAGAAGAA, ALT=[TGAAGAAGAAGAAGAAGAAGAA])\n",
      "215\n",
      "[1, 0, 56, 21]\n",
      "{'INDEL': True, 'IDV': 56, 'IMF': 0.260465, 'DP': 215, 'VDB': 2.81899e-11, 'SGB': -0.693147, 'MQSB': 0.601548, 'MQ0F': 0.0186047, 'AF1': 1.0, 'AC1': 1.0, 'DP4': [1, 0, 56, 21], 'MQ': 14, 'FQ': -999.0, 'PV4': [1.0, 0.0390143, 5.13611e-05, 0.247467]}\n",
      "--------------------\n",
      "Record(CHROM=MH893760.2, POS=145023, REF=GAAAAAAA, ALT=[GAAAAAA])\n",
      "60\n",
      "[0, 0, 29, 16]\n",
      "{'INDEL': True, 'IDV': 42, 'IMF': 0.7, 'DP': 60, 'VDB': 1.33221e-05, 'SGB': -0.693147, 'MQSB': 0.69467, 'MQ0F': 0.0333333, 'AF1': 1.0, 'AC1': 1.0, 'DP4': [0, 0, 29, 16], 'MQ': 38, 'FQ': -999.0}\n",
      "--------------------\n",
      "Record(CHROM=MH893760.2, POS=145762, REF=AAATAATAATAATA, ALT=[AAATAATAATAATAATA])\n",
      "22\n",
      "[0, 0, 8, 4]\n",
      "{'INDEL': True, 'IDV': 5, 'IMF': 0.227273, 'DP': 22, 'VDB': 0.18368, 'SGB': -0.680642, 'MQSB': 0.397295, 'MQ0F': 0.0, 'AF1': 1.0, 'AC1': 1.0, 'DP4': [0, 0, 8, 4], 'MQ': 15, 'FQ': -999.0}\n",
      "--------------------\n",
      "12\n"
     ]
    }
   ],
   "source": [
    "vcf_reader = vcf.Reader(open('./samtools_out/lsd_2_vars.vcf', 'r'))\n",
    "counter = 0\n",
    "for record in vcf_reader:\n",
    "    if \"INDEL\" in record.INFO.keys():\n",
    "        print(record)\n",
    "        print(record.INFO[\"DP\"])\n",
    "        print(record.INFO[\"DP4\"])\n",
    "        print(record.INFO)\n",
    "        print(\"--------------------\")\n",
    "        counter += 1\n",
    "\n",
    "print(counter)\n",
    "    "
   ]
  },
  {
   "cell_type": "code",
   "execution_count": null,
   "metadata": {},
   "outputs": [],
   "source": []
  },
  {
   "cell_type": "markdown",
   "metadata": {},
   "source": [
    "- we take only SNPs.\n",
    "- if number of reads supporting alternative variant is greater than 10, we print it out"
   ]
  },
  {
   "cell_type": "code",
   "execution_count": 5,
   "metadata": {},
   "outputs": [
    {
     "name": "stdout",
     "output_type": "stream",
     "text": [
      "Record(CHROM=MH893760.2, POS=21695, REF=C, ALT=[T])\n",
      "88\n",
      "[12, 7, 30, 27]\n",
      "{'DP': 88, 'VDB': 0.00825332, 'SGB': -0.693147, 'RPB': 0.0293038, 'MQB': 5.50095e-08, 'MQSB': 0.962405, 'BQB': 0.0458218, 'MQ0F': 0.0681818, 'AF1': 0.510155, 'AC1': 1.0, 'DP4': [12, 7, 30, 27], 'MQ': 36, 'FQ': -999.0, 'PV4': [0.594997, 1.0, 1.0, 1.0]}\n",
      "--------------------\n",
      "Record(CHROM=MH893760.2, POS=24453, REF=T, ALT=[C])\n",
      "20\n",
      "[1, 3, 6, 10]\n",
      "{'DP': 20, 'VDB': 0.0529202, 'SGB': -0.689466, 'RPB': 0.366241, 'MQB': 0.0103432, 'MQSB': 0.962269, 'BQB': 0.982301, 'MQ0F': 0.05, 'AF1': 1.0, 'AC1': 1.0, 'DP4': [1, 3, 6, 10], 'MQ': 38, 'FQ': -999.0, 'PV4': [1.0, 0.233036, 1.0, 1.0]}\n",
      "--------------------\n",
      "Record(CHROM=MH893760.2, POS=63853, REF=G, ALT=[A])\n",
      "77\n",
      "[7, 3, 8, 55]\n",
      "{'DP': 77, 'VDB': 0.00144445, 'SGB': -0.693147, 'RPB': 0.876526, 'MQB': 2.84408e-06, 'MQSB': 0.0866522, 'BQB': 0.537055, 'MQ0F': 0.012987, 'AF1': 1.0, 'AC1': 1.0, 'DP4': [7, 3, 8, 55], 'MQ': 37, 'FQ': -999.0, 'PV4': [0.000337164, 1.0, 1.0, 1.0]}\n",
      "--------------------\n",
      "3\n"
     ]
    }
   ],
   "source": [
    "vcf_reader = vcf.Reader(open('./samtools_out/lsd_2_vars_snp.vcf', 'r'))\n",
    "counter = 0\n",
    "for record in vcf_reader:\n",
    "    if int(record.INFO[\"DP4\"][2]) + (record.INFO[\"DP4\"][3]) >= 10:\n",
    "        print(record)\n",
    "        print(record.INFO[\"DP\"])\n",
    "        print(record.INFO[\"DP4\"])\n",
    "        print(record.INFO)\n",
    "        print(\"--------------------\")\n",
    "        counter += 1\n",
    "print(counter)\n",
    "    "
   ]
  },
  {
   "cell_type": "markdown",
   "metadata": {},
   "source": [
    "#### those three SNPs showed in IGV:"
   ]
  },
  {
   "cell_type": "markdown",
   "metadata": {},
   "source": [
    "![21695](./samtools_out/snp_21695.png)"
   ]
  },
  {
   "cell_type": "code",
   "execution_count": null,
   "metadata": {},
   "outputs": [],
   "source": []
  },
  {
   "cell_type": "markdown",
   "metadata": {},
   "source": [
    "![snp_24453.png](./samtools_out/snp_24453.png)\n"
   ]
  },
  {
   "cell_type": "code",
   "execution_count": null,
   "metadata": {},
   "outputs": [],
   "source": []
  },
  {
   "cell_type": "markdown",
   "metadata": {},
   "source": [
    "![snp_63853.png](./samtools_out/snp_63853.png)"
   ]
  },
  {
   "cell_type": "code",
   "execution_count": 2,
   "metadata": {},
   "outputs": [
    {
     "name": "stdout",
     "output_type": "stream",
     "text": [
      "1_trim_qual_32_1P.fastq\n",
      "1_trim_qual_32_1U.fastq\n",
      "1_trim_qual_32_2P.fastq\n",
      "1_trim_qual_32_2U.fastq\n",
      "2_trim_crop_35_trail_32_2P.fastq\n",
      "2_trim_crop_40_trail_32_2P.fastq\n",
      "2_trim_qual_28_2P.fastq\n",
      "2_trim_trail_32_2P.fastq\n",
      "2_trim_win_32_trail_32_2P.fastq\n",
      "2_trim_win_32_trail_32_crop_30_2P.fastq\n",
      "LSD-2_S1_L001_R1_001.fastq\n",
      "LSD-2_S1_L001_R2_001.fastq\n",
      "over_seq.txt\n",
      "ref_lsd-3_MH893760.2.fasta\n",
      "ref_lsd-3_MH893760.2.fasta.fai\n"
     ]
    }
   ],
   "source": [
    "%%bash\n",
    "ls ./input_data/"
   ]
  },
  {
   "cell_type": "code",
   "execution_count": 1,
   "metadata": {},
   "outputs": [
    {
     "name": "stdout",
     "output_type": "stream",
     "text": [
      "lsd_2_mapped_as_unpaired.bam\n",
      "lsd_2_mapped_as_unpaired_sorted.bam\n",
      "lsd_2_mapped_as_unpaired_sorted_rmdup.bam\n",
      "lsd_2_mapped_as_unpaired_sorted_rmdup.bam.bai\n",
      "lsd_2_vars.bcf\n",
      "lsd_2_vars.vcf\n",
      "lsd_2_vars_snp.vcf\n",
      "ploid.txt\n",
      "snp_21695.png\n",
      "snp_24453.png\n",
      "snp_63853.png\n"
     ]
    }
   ],
   "source": [
    "%%bash\n",
    "ls ./samtools_out/"
   ]
  },
  {
   "cell_type": "markdown",
   "metadata": {},
   "source": [
    "#### NOTE : we have to redo the calling step, as bcftools can apply to reference only files compressed with bgzip\n",
    "\n",
    "the command `-Oz -o` means ouput in bzip format \n",
    "- we need this compressed format to get consensus (otherwise it doesn't work)\n",
    "- then we must index compressed `vcf` file, we need it to get derive consensus as well"
   ]
  },
  {
   "cell_type": "code",
   "execution_count": 8,
   "metadata": {},
   "outputs": [],
   "source": [
    "%%bash\n",
    "bcftools call \\\n",
    "--consensus-caller \\\n",
    "--variants-only \\\n",
    "--skip-variants indels \\\n",
    "--ploidy-file ./samtools_out/ploid.txt \\\n",
    "./samtools_out/lsd_2_vars.bcf \\\n",
    "-Oz -o ./samtools_out/lsd_2_vars_snp.vcf.gz \\\n"
   ]
  },
  {
   "cell_type": "markdown",
   "metadata": {},
   "source": [
    "#### we must index the `lsd_2_vars.vcf.gz`"
   ]
  },
  {
   "cell_type": "code",
   "execution_count": 9,
   "metadata": {},
   "outputs": [],
   "source": [
    "%%bash\n",
    "bcftools tabix -p vcf ./samtools_out/lsd_2_vars_snp.vcf.gz"
   ]
  },
  {
   "cell_type": "markdown",
   "metadata": {},
   "source": [
    "### creating consensus"
   ]
  },
  {
   "cell_type": "markdown",
   "metadata": {},
   "source": [
    "Create consensus sequence by applying VCF variants to a reference fasta file.\n",
    "\n",
    "- reference sequence\n",
    "- `bcf` file with variants calls\n",
    "- indexed `vcf` file\n",
    "\n",
    "but:\n",
    "- we didn't call indels, so we don't need to normalize and filter indels\n",
    "\n",
    "see : http://samtools.github.io/bcftools/howtos/consensus-sequence.html"
   ]
  },
  {
   "cell_type": "code",
   "execution_count": 12,
   "metadata": {},
   "outputs": [
    {
     "name": "stderr",
     "output_type": "stream",
     "text": [
      "Note: the --sample option not given, applying all records\n"
     ]
    }
   ],
   "source": [
    "%%bash\n",
    "cat ./input_data/ref_lsd-3_MH893760.2.fasta | \\\n",
    "bcftools consensus \\\n",
    "./samtools_out/lsd_2_vars_snp.vcf.gz \\\n",
    "> ./samtools_out/consensus_lsd_2_.fasta"
   ]
  },
  {
   "cell_type": "code",
   "execution_count": null,
   "metadata": {},
   "outputs": [],
   "source": []
  },
  {
   "cell_type": "code",
   "execution_count": null,
   "metadata": {},
   "outputs": [],
   "source": []
  },
  {
   "cell_type": "code",
   "execution_count": null,
   "metadata": {},
   "outputs": [],
   "source": []
  },
  {
   "cell_type": "code",
   "execution_count": null,
   "metadata": {},
   "outputs": [],
   "source": []
  },
  {
   "cell_type": "code",
   "execution_count": null,
   "metadata": {},
   "outputs": [],
   "source": []
  },
  {
   "cell_type": "code",
   "execution_count": null,
   "metadata": {},
   "outputs": [],
   "source": []
  },
  {
   "cell_type": "code",
   "execution_count": null,
   "metadata": {},
   "outputs": [],
   "source": []
  },
  {
   "cell_type": "code",
   "execution_count": null,
   "metadata": {},
   "outputs": [],
   "source": []
  },
  {
   "cell_type": "code",
   "execution_count": null,
   "metadata": {},
   "outputs": [],
   "source": []
  },
  {
   "cell_type": "code",
   "execution_count": null,
   "metadata": {},
   "outputs": [],
   "source": []
  },
  {
   "cell_type": "code",
   "execution_count": null,
   "metadata": {},
   "outputs": [],
   "source": []
  },
  {
   "cell_type": "code",
   "execution_count": null,
   "metadata": {},
   "outputs": [],
   "source": []
  }
 ],
 "metadata": {
  "kernelspec": {
   "display_name": "Python 3",
   "language": "python",
   "name": "python3"
  },
  "language_info": {
   "codemirror_mode": {
    "name": "ipython",
    "version": 3
   },
   "file_extension": ".py",
   "mimetype": "text/x-python",
   "name": "python",
   "nbconvert_exporter": "python",
   "pygments_lexer": "ipython3",
   "version": "3.6.5"
  }
 },
 "nbformat": 4,
 "nbformat_minor": 2
}
