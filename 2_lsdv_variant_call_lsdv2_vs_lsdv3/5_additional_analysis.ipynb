{
 "cells": [
  {
   "cell_type": "code",
   "execution_count": 4,
   "metadata": {},
   "outputs": [],
   "source": [
    "from sequman import blast_fasta\n",
    "import pandas as pd"
   ]
  },
  {
   "cell_type": "markdown",
   "metadata": {},
   "source": [
    "there are overrepsented sequences according to quality check."
   ]
  },
  {
   "cell_type": "markdown",
   "metadata": {},
   "source": [
    "\n",
    "let's blast these sequences to understand what kind of they are :"
   ]
  },
  {
   "cell_type": "code",
   "execution_count": 3,
   "metadata": {},
   "outputs": [
    {
     "name": "stdout",
     "output_type": "stream",
     "text": [
      "1  blasted at:  2019-05-16 12:58:56\n",
      "2  blasted at:  2019-05-16 13:02:45\n",
      "3  blasted at:  2019-05-16 13:04:26\n",
      "4  blasted at:  2019-05-16 13:05:09\n",
      "5  blasted at:  2019-05-16 13:07:41\n",
      "6  blasted at:  2019-05-16 13:13:25\n",
      "7  blasted at:  2019-05-16 13:17:14\n",
      "8  blasted at:  2019-05-16 13:18:20\n",
      "9  blasted at:  2019-05-16 13:20:01\n",
      "10  blasted at:  2019-05-16 13:22:35\n",
      "11  blasted at:  2019-05-16 13:23:19\n",
      "12  blasted at:  2019-05-16 13:29:03\n",
      "13  blasted at:  2019-05-16 13:31:35\n",
      "14  blasted at:  2019-05-16 13:37:19\n",
      "15  blasted at:  2019-05-16 13:55:03\n",
      "16  blasted at:  2019-05-16 13:55:31\n",
      "17  blasted at:  2019-05-16 13:56:01\n",
      "18  blasted at:  2019-05-16 13:56:22\n",
      "19  blasted at:  2019-05-16 13:57:08\n",
      "20  blasted at:  2019-05-16 14:18:52\n",
      "21  blasted at:  2019-05-16 14:19:12\n",
      "22  blasted at:  2019-05-16 14:19:40\n",
      "23  blasted at:  2019-05-16 14:20:08\n",
      "24  blasted at:  2019-05-16 14:20:29\n",
      "25  blasted at:  2019-05-16 14:20:58\n",
      "26  blasted at:  2019-05-16 14:21:04\n",
      "27  blasted at:  2019-05-16 14:21:16\n",
      "28  blasted at:  2019-05-16 14:21:27\n",
      "job done. the results are in C:\\Users\\babin.PCR_INT\\GitHub\\lsdv-variant-call-lsdv2-vs-lsdv3\\blast_results.csv\n"
     ]
    }
   ],
   "source": [
    "blast_fasta(\"./input_data/over_seq.txt\")"
   ]
  },
  {
   "cell_type": "code",
   "execution_count": 5,
   "metadata": {},
   "outputs": [],
   "source": [
    "blast_res = pd.read_csv(\"blast_results.csv\", sep=\"\\t\")"
   ]
  },
  {
   "cell_type": "markdown",
   "metadata": {},
   "source": [
    "all the sequences are lumpy skin disease virus. Perhaps, it occurs due to the excessive and uneven coverage depth "
   ]
  },
  {
   "cell_type": "code",
   "execution_count": 8,
   "metadata": {},
   "outputs": [
    {
     "data": {
      "text/plain": [
       "0     gi|1578914549|gb|MK441838.1| Lumpy skin diseas...\n",
       "1     gi|1578914549|gb|MK441838.1| Lumpy skin diseas...\n",
       "2     gi|1578914549|gb|MK441838.1| Lumpy skin diseas...\n",
       "3     gi|1578914549|gb|MK441838.1| Lumpy skin diseas...\n",
       "4     gi|1578914549|gb|MK441838.1| Lumpy skin diseas...\n",
       "5     gi|1578914549|gb|MK441838.1| Lumpy skin diseas...\n",
       "6     gi|1578914549|gb|MK441838.1| Lumpy skin diseas...\n",
       "7     gi|1578914549|gb|MK441838.1| Lumpy skin diseas...\n",
       "8     gi|1418725076|gb|MH381810.1| Goatpox virus str...\n",
       "9     gi|1578914549|gb|MK441838.1| Lumpy skin diseas...\n",
       "10    gi|1578914549|gb|MK441838.1| Lumpy skin diseas...\n",
       "11    gi|1578914549|gb|MK441838.1| Lumpy skin diseas...\n",
       "12    gi|1578914549|gb|MK441838.1| Lumpy skin diseas...\n",
       "13    gi|1578914549|gb|MK441838.1| Lumpy skin diseas...\n",
       "14    gi|1578914549|gb|MK441838.1| Lumpy skin diseas...\n",
       "15    gi|1578914549|gb|MK441838.1| Lumpy skin diseas...\n",
       "16    gi|1578914549|gb|MK441838.1| Lumpy skin diseas...\n",
       "17    gi|1578914549|gb|MK441838.1| Lumpy skin diseas...\n",
       "18    gi|1578914549|gb|MK441838.1| Lumpy skin diseas...\n",
       "19    gi|1578914549|gb|MK441838.1| Lumpy skin diseas...\n",
       "20    gi|1578914549|gb|MK441838.1| Lumpy skin diseas...\n",
       "21    gi|1578914549|gb|MK441838.1| Lumpy skin diseas...\n",
       "22    gi|1578914549|gb|MK441838.1| Lumpy skin diseas...\n",
       "23    gi|1578914549|gb|MK441838.1| Lumpy skin diseas...\n",
       "24    gi|1578914549|gb|MK441838.1| Lumpy skin diseas...\n",
       "25    gi|1578914549|gb|MK441838.1| Lumpy skin diseas...\n",
       "26    gi|1578914549|gb|MK441838.1| Lumpy skin diseas...\n",
       "27    gi|1578914549|gb|MK441838.1| Lumpy skin diseas...\n",
       "28    gi|1578914549|gb|MK441838.1| Lumpy skin diseas...\n",
       "29    gi|1578914549|gb|MK441838.1| Lumpy skin diseas...\n",
       "30    gi|1578914549|gb|MK441838.1| Lumpy skin diseas...\n",
       "31    gi|1578914549|gb|MK441838.1| Lumpy skin diseas...\n",
       "32    gi|1578914549|gb|MK441838.1| Lumpy skin diseas...\n",
       "33    gi|1578914549|gb|MK441838.1| Lumpy skin diseas...\n",
       "34    gi|1578914549|gb|MK441838.1| Lumpy skin diseas...\n",
       "35    gi|1578914549|gb|MK441838.1| Lumpy skin diseas...\n",
       "36    gi|1578914549|gb|MK441838.1| Lumpy skin diseas...\n",
       "37    gi|1578914549|gb|MK441838.1| Lumpy skin diseas...\n",
       "38    gi|1578914549|gb|MK441838.1| Lumpy skin diseas...\n",
       "39    gi|1578914549|gb|MK441838.1| Lumpy skin diseas...\n",
       "40    gi|1578914549|gb|MK441838.1| Lumpy skin diseas...\n",
       "41    gi|1578914549|gb|MK441838.1| Lumpy skin diseas...\n",
       "42    gi|1578914549|gb|MK441838.1| Lumpy skin diseas...\n",
       "43    gi|1578914549|gb|MK441838.1| Lumpy skin diseas...\n",
       "44    gi|1578914549|gb|MK441838.1| Lumpy skin diseas...\n",
       "45    gi|1578914549|gb|MK441838.1| Lumpy skin diseas...\n",
       "46    gi|1578914549|gb|MK441838.1| Lumpy skin diseas...\n",
       "47    gi|1546192827|gb|MH893760.2| Lumpy skin diseas...\n",
       "48    gi|1546192827|gb|MH893760.2| Lumpy skin diseas...\n",
       "49    gi|1578914549|gb|MK441838.1| Lumpy skin diseas...\n",
       "50    gi|1578914549|gb|MK441838.1| Lumpy skin diseas...\n",
       "51    gi|1418725076|gb|MH381810.1| Goatpox virus str...\n",
       "52    gi|1578914549|gb|MK441838.1| Lumpy skin diseas...\n",
       "53    gi|1578914549|gb|MK441838.1| Lumpy skin diseas...\n",
       "54    gi|1546192827|gb|MH893760.2| Lumpy skin diseas...\n",
       "55    gi|1546192827|gb|MH893760.2| Lumpy skin diseas...\n",
       "Name: hit_name, dtype: object"
      ]
     },
     "execution_count": 8,
     "metadata": {},
     "output_type": "execute_result"
    }
   ],
   "source": [
    "blast_res[\"hit_name\"]"
   ]
  },
  {
   "cell_type": "code",
   "execution_count": null,
   "metadata": {},
   "outputs": [],
   "source": []
  },
  {
   "cell_type": "code",
   "execution_count": null,
   "metadata": {},
   "outputs": [],
   "source": []
  },
  {
   "cell_type": "code",
   "execution_count": null,
   "metadata": {},
   "outputs": [],
   "source": []
  },
  {
   "cell_type": "code",
   "execution_count": null,
   "metadata": {},
   "outputs": [],
   "source": []
  },
  {
   "cell_type": "code",
   "execution_count": null,
   "metadata": {},
   "outputs": [],
   "source": []
  },
  {
   "cell_type": "code",
   "execution_count": null,
   "metadata": {},
   "outputs": [],
   "source": []
  },
  {
   "cell_type": "code",
   "execution_count": null,
   "metadata": {},
   "outputs": [],
   "source": []
  },
  {
   "cell_type": "code",
   "execution_count": null,
   "metadata": {},
   "outputs": [],
   "source": []
  }
 ],
 "metadata": {
  "kernelspec": {
   "display_name": "Python 3",
   "language": "python",
   "name": "python3"
  },
  "language_info": {
   "codemirror_mode": {
    "name": "ipython",
    "version": 3
   },
   "file_extension": ".py",
   "mimetype": "text/x-python",
   "name": "python",
   "nbconvert_exporter": "python",
   "pygments_lexer": "ipython3",
   "version": "3.6.5"
  }
 },
 "nbformat": 4,
 "nbformat_minor": 2
}
