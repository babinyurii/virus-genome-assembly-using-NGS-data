{
 "cells": [
  {
   "cell_type": "code",
   "execution_count": 1,
   "metadata": {},
   "outputs": [],
   "source": [
    "%%bash\n",
    "mkdir ./bowtie_out"
   ]
  },
  {
   "cell_type": "code",
   "execution_count": 3,
   "metadata": {},
   "outputs": [
    {
     "name": "stdout",
     "output_type": "stream",
     "text": [
      "./input_data/ref_lsd-3_MH893760.2.fasta\n"
     ]
    }
   ],
   "source": [
    "%%bash\n",
    "ls ./input_data/ref*"
   ]
  },
  {
   "cell_type": "code",
   "execution_count": 4,
   "metadata": {},
   "outputs": [],
   "source": [
    "%%bash\n",
    "bowtie2-build --quiet \\\n",
    "./input_data/ref_lsd-3_MH893760.2.fasta \\\n",
    "./bowtie_out/ref_lsd_3_index"
   ]
  },
  {
   "cell_type": "code",
   "execution_count": 5,
   "metadata": {},
   "outputs": [
    {
     "name": "stdout",
     "output_type": "stream",
     "text": [
      "1_trim_qual_32_1P.fastq\n",
      "1_trim_qual_32_1U.fastq\n",
      "1_trim_qual_32_2P.fastq\n",
      "1_trim_qual_32_2U.fastq\n",
      "2_trim_crop_35_trail_32_2P.fastq\n",
      "2_trim_crop_40_trail_32_2P.fastq\n",
      "2_trim_qual_28_2P.fastq\n",
      "2_trim_trail_32_2P.fastq\n",
      "2_trim_win_32_trail_32_2P.fastq\n",
      "2_trim_win_32_trail_32_crop_30_2P.fastq\n",
      "LSD-2_S1_L001_R1_001.fastq\n",
      "LSD-2_S1_L001_R2_001.fastq\n",
      "ref_lsd-3_MH893760.2.fasta\n"
     ]
    }
   ],
   "source": [
    "%%bash\n",
    "ls ./input_data"
   ]
  },
  {
   "cell_type": "markdown",
   "metadata": {},
   "source": [
    "mapping as unpaired (`-U` flag), as we've recropped 2P file and number of reads in the 1P and 2P file is uneven"
   ]
  },
  {
   "cell_type": "code",
   "execution_count": 6,
   "metadata": {},
   "outputs": [
    {
     "name": "stderr",
     "output_type": "stream",
     "text": [
      "946880 reads; of these:\n",
      "  946880 (100.00%) were unpaired; of these:\n",
      "    331773 (35.04%) aligned 0 times\n",
      "    299172 (31.60%) aligned exactly 1 time\n",
      "    315935 (33.37%) aligned >1 times\n",
      "64.96% overall alignment rate\n"
     ]
    }
   ],
   "source": [
    "%%bash\n",
    "bowtie2 -x ./bowtie_out/ref_lsd_3_index \\\n",
    "-U ./input_data/1_trim_qual_32_1P.fastq \\\n",
    "-U ./input_data/1_trim_qual_32_1U.fastq \\\n",
    "-U ./input_data/2_trim_win_32_trail_32_crop_30_2P.fastq \\\n",
    "-S ./bowtie_out/lsd_2_mapped_as_unpaired.sam\n"
   ]
  },
  {
   "cell_type": "code",
   "execution_count": null,
   "metadata": {},
   "outputs": [],
   "source": []
  },
  {
   "cell_type": "code",
   "execution_count": null,
   "metadata": {},
   "outputs": [],
   "source": []
  },
  {
   "cell_type": "code",
   "execution_count": null,
   "metadata": {},
   "outputs": [],
   "source": []
  },
  {
   "cell_type": "code",
   "execution_count": null,
   "metadata": {},
   "outputs": [],
   "source": []
  },
  {
   "cell_type": "code",
   "execution_count": null,
   "metadata": {},
   "outputs": [],
   "source": []
  },
  {
   "cell_type": "code",
   "execution_count": null,
   "metadata": {},
   "outputs": [],
   "source": []
  },
  {
   "cell_type": "code",
   "execution_count": null,
   "metadata": {},
   "outputs": [],
   "source": []
  },
  {
   "cell_type": "code",
   "execution_count": null,
   "metadata": {},
   "outputs": [],
   "source": []
  }
 ],
 "metadata": {
  "kernelspec": {
   "display_name": "Python 3",
   "language": "python",
   "name": "python3"
  },
  "language_info": {
   "codemirror_mode": {
    "name": "ipython",
    "version": 3
   },
   "file_extension": ".py",
   "mimetype": "text/x-python",
   "name": "python",
   "nbconvert_exporter": "python",
   "pygments_lexer": "ipython3",
   "version": "3.6.5"
  }
 },
 "nbformat": 4,
 "nbformat_minor": 2
}
