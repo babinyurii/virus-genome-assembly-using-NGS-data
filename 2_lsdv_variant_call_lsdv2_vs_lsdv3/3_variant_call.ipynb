{
 "cells": [
  {
   "cell_type": "code",
   "execution_count": 1,
   "metadata": {},
   "outputs": [],
   "source": [
    "%%bash\n",
    "mkdir ./samtools_out"
   ]
  },
  {
   "cell_type": "code",
   "execution_count": 2,
   "metadata": {},
   "outputs": [
    {
     "name": "stdout",
     "output_type": "stream",
     "text": [
      "lsd_2_mapped_as_unpaired.sam\n",
      "ref_lsd_3_index.1.bt2\n",
      "ref_lsd_3_index.2.bt2\n",
      "ref_lsd_3_index.3.bt2\n",
      "ref_lsd_3_index.4.bt2\n",
      "ref_lsd_3_index.rev.1.bt2\n",
      "ref_lsd_3_index.rev.2.bt2\n"
     ]
    }
   ],
   "source": [
    "%%bash\n",
    "ls ./bowtie_out/"
   ]
  },
  {
   "cell_type": "markdown",
   "metadata": {},
   "source": [
    "#### converting sam to bam"
   ]
  },
  {
   "cell_type": "code",
   "execution_count": 3,
   "metadata": {},
   "outputs": [],
   "source": [
    "%%bash\n",
    "samtools view \\\n",
    "-b -S -o \\\n",
    "./samtools_out/lsd_2_mapped_as_unpaired.bam \\\n",
    "./bowtie_out/lsd_2_mapped_as_unpaired.sam "
   ]
  },
  {
   "cell_type": "markdown",
   "metadata": {},
   "source": [
    "#### sorting bam file"
   ]
  },
  {
   "cell_type": "code",
   "execution_count": 4,
   "metadata": {},
   "outputs": [],
   "source": [
    "%%bash\n",
    "samtools sort ./samtools_out/lsd_2_mapped_as_unpaired.bam > ./samtools_out/lsd_2_mapped_as_unpaired_sorted.bam"
   ]
  },
  {
   "cell_type": "markdown",
   "metadata": {},
   "source": [
    "#### removing pcr duplicates"
   ]
  },
  {
   "cell_type": "code",
   "execution_count": 5,
   "metadata": {},
   "outputs": [
    {
     "name": "stderr",
     "output_type": "stream",
     "text": [
      "[bam_rmdup_core] processing reference MH893760.2...\n"
     ]
    }
   ],
   "source": [
    "%%bash\n",
    "samtools rmdup  ./samtools_out/lsd_2_mapped_as_unpaired_sorted.bam ./samtools_out/lsd_2_mapped_as_unpaired_sorted_rmdup.bam"
   ]
  },
  {
   "cell_type": "markdown",
   "metadata": {},
   "source": [
    "#### indexing sorted file"
   ]
  },
  {
   "cell_type": "code",
   "execution_count": 6,
   "metadata": {},
   "outputs": [],
   "source": [
    "%%bash\n",
    "samtools index ./samtools_out/lsd_2_mapped_as_unpaired_sorted_rmdup.bam"
   ]
  },
  {
   "cell_type": "code",
   "execution_count": 7,
   "metadata": {},
   "outputs": [
    {
     "name": "stdout",
     "output_type": "stream",
     "text": [
      "1_trim_qual_32_1P.fastq\n",
      "1_trim_qual_32_1U.fastq\n",
      "1_trim_qual_32_2P.fastq\n",
      "1_trim_qual_32_2U.fastq\n",
      "2_trim_crop_35_trail_32_2P.fastq\n",
      "2_trim_crop_40_trail_32_2P.fastq\n",
      "2_trim_qual_28_2P.fastq\n",
      "2_trim_trail_32_2P.fastq\n",
      "2_trim_win_32_trail_32_2P.fastq\n",
      "2_trim_win_32_trail_32_crop_30_2P.fastq\n",
      "LSD-2_S1_L001_R1_001.fastq\n",
      "LSD-2_S1_L001_R2_001.fastq\n",
      "ref_lsd-3_MH893760.2.fasta\n"
     ]
    }
   ],
   "source": [
    "%%bash\n",
    "ls ./input_data/"
   ]
  },
  {
   "cell_type": "markdown",
   "metadata": {},
   "source": [
    "#### calculating variants"
   ]
  },
  {
   "cell_type": "code",
   "execution_count": 8,
   "metadata": {},
   "outputs": [
    {
     "name": "stderr",
     "output_type": "stream",
     "text": [
      "[fai_load] build FASTA index.\n",
      "[mpileup] 1 samples in 1 input files\n",
      "<mpileup> Set max per-file depth to 8000\n"
     ]
    }
   ],
   "source": [
    "%%bash\n",
    "samtools mpileup --BCF \\\n",
    "--fasta ./input_data/ref_lsd-3_MH893760.2.fasta \\\n",
    "./samtools_out/lsd_2_mapped_as_unpaired_sorted_rmdup.bam > ./samtools_out/lsd_2_vars.bcf"
   ]
  },
  {
   "cell_type": "markdown",
   "metadata": {},
   "source": [
    "#### calling variants"
   ]
  },
  {
   "cell_type": "code",
   "execution_count": 10,
   "metadata": {},
   "outputs": [],
   "source": [
    "%%bash\n",
    "bcftools call \\\n",
    "--consensus-caller \\\n",
    "--variants-only \\\n",
    "--ploidy-file ./samtools_out/ploid.txt \\\n",
    "./samtools_out/lsd_2_vars.bcf > ./samtools_out/lsd_2_vars.vcf"
   ]
  },
  {
   "cell_type": "code",
   "execution_count": 1,
   "metadata": {},
   "outputs": [],
   "source": [
    "%%bash\n",
    "bcftools call \\\n",
    "--consensus-caller \\\n",
    "--variants-only \\\n",
    "--skip-variants indels \\\n",
    "--ploidy-file ./samtools_out/ploid.txt \\\n",
    "./samtools_out/lsd_2_vars.bcf > ./samtools_out/lsd_2_vars_snp.vcf"
   ]
  },
  {
   "cell_type": "code",
   "execution_count": null,
   "metadata": {},
   "outputs": [],
   "source": []
  },
  {
   "cell_type": "code",
   "execution_count": null,
   "metadata": {},
   "outputs": [],
   "source": []
  },
  {
   "cell_type": "code",
   "execution_count": null,
   "metadata": {},
   "outputs": [],
   "source": []
  },
  {
   "cell_type": "code",
   "execution_count": null,
   "metadata": {},
   "outputs": [],
   "source": []
  },
  {
   "cell_type": "code",
   "execution_count": null,
   "metadata": {},
   "outputs": [],
   "source": []
  },
  {
   "cell_type": "code",
   "execution_count": null,
   "metadata": {},
   "outputs": [],
   "source": []
  },
  {
   "cell_type": "code",
   "execution_count": null,
   "metadata": {},
   "outputs": [],
   "source": []
  },
  {
   "cell_type": "code",
   "execution_count": null,
   "metadata": {},
   "outputs": [],
   "source": []
  },
  {
   "cell_type": "code",
   "execution_count": null,
   "metadata": {},
   "outputs": [],
   "source": []
  },
  {
   "cell_type": "code",
   "execution_count": null,
   "metadata": {},
   "outputs": [],
   "source": []
  },
  {
   "cell_type": "code",
   "execution_count": null,
   "metadata": {},
   "outputs": [],
   "source": []
  },
  {
   "cell_type": "code",
   "execution_count": null,
   "metadata": {},
   "outputs": [],
   "source": []
  },
  {
   "cell_type": "code",
   "execution_count": null,
   "metadata": {},
   "outputs": [],
   "source": []
  },
  {
   "cell_type": "code",
   "execution_count": null,
   "metadata": {},
   "outputs": [],
   "source": []
  },
  {
   "cell_type": "code",
   "execution_count": null,
   "metadata": {},
   "outputs": [],
   "source": []
  },
  {
   "cell_type": "code",
   "execution_count": null,
   "metadata": {},
   "outputs": [],
   "source": []
  },
  {
   "cell_type": "code",
   "execution_count": null,
   "metadata": {},
   "outputs": [],
   "source": []
  },
  {
   "cell_type": "code",
   "execution_count": null,
   "metadata": {},
   "outputs": [],
   "source": []
  },
  {
   "cell_type": "code",
   "execution_count": null,
   "metadata": {},
   "outputs": [],
   "source": []
  },
  {
   "cell_type": "code",
   "execution_count": null,
   "metadata": {},
   "outputs": [],
   "source": []
  },
  {
   "cell_type": "code",
   "execution_count": null,
   "metadata": {},
   "outputs": [],
   "source": []
  },
  {
   "cell_type": "code",
   "execution_count": null,
   "metadata": {},
   "outputs": [],
   "source": []
  },
  {
   "cell_type": "code",
   "execution_count": null,
   "metadata": {},
   "outputs": [],
   "source": []
  },
  {
   "cell_type": "code",
   "execution_count": null,
   "metadata": {},
   "outputs": [],
   "source": []
  },
  {
   "cell_type": "code",
   "execution_count": null,
   "metadata": {},
   "outputs": [],
   "source": []
  }
 ],
 "metadata": {
  "kernelspec": {
   "display_name": "Python 3",
   "language": "python",
   "name": "python3"
  },
  "language_info": {
   "codemirror_mode": {
    "name": "ipython",
    "version": 3
   },
   "file_extension": ".py",
   "mimetype": "text/x-python",
   "name": "python",
   "nbconvert_exporter": "python",
   "pygments_lexer": "ipython3",
   "version": "3.6.5"
  }
 },
 "nbformat": 4,
 "nbformat_minor": 2
}
