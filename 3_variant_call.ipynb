{
 "cells": [
  {
   "cell_type": "code",
   "execution_count": 1,
   "metadata": {},
   "outputs": [],
   "source": [
    "%%bash\n",
    "mkdir ./samtools_out"
   ]
  },
  {
   "cell_type": "markdown",
   "metadata": {},
   "source": [
    "for steps are needed to open bam file in IGV :"
   ]
  },
  {
   "cell_type": "code",
   "execution_count": 1,
   "metadata": {},
   "outputs": [],
   "source": [
    "%%bash\n",
    "samtools view \\\n",
    "-b -S -o \\\n",
    "./samtools_out/saratov_map_unpaired.bam \\\n",
    "./bowtie_out/saratov_map_unpaired.sam \n"
   ]
  },
  {
   "cell_type": "code",
   "execution_count": 2,
   "metadata": {},
   "outputs": [],
   "source": [
    "%%bash\n",
    "samtools sort ./samtools_out/saratov_map_unpaired.bam > ./samtools_out/saratov_map_unpaired_sorted.bam"
   ]
  },
  {
   "cell_type": "code",
   "execution_count": 3,
   "metadata": {},
   "outputs": [
    {
     "name": "stderr",
     "output_type": "stream",
     "text": [
      "[bam_rmdup_core] processing reference AF409138.1...\n"
     ]
    }
   ],
   "source": [
    "%%bash\n",
    "samtools rmdup  ./samtools_out/saratov_map_unpaired_sorted.bam ./samtools_out/saratov_map_unpaired_sorted_rmdup.bam"
   ]
  },
  {
   "cell_type": "code",
   "execution_count": 4,
   "metadata": {},
   "outputs": [],
   "source": [
    "%%bash\n",
    "samtools index ./samtools_out/saratov_map_unpaired_sorted_rmdup.bam"
   ]
  },
  {
   "cell_type": "markdown",
   "metadata": {},
   "source": [
    "now you can open file `saratov_map_unpaired_sorted_rmdup.bam` with IGV to visualize mapping reads and variants :"
   ]
  },
  {
   "cell_type": "markdown",
   "metadata": {},
   "source": [
    "![igv](./pictures/igv_example.png)"
   ]
  },
  {
   "cell_type": "markdown",
   "metadata": {},
   "source": [
    "we can also import `sam` file into Ugene (it sorts, creates index and makes file `ugenedb`, which can be opened in Ugene afterwards) to visualize the mapped reads :"
   ]
  },
  {
   "cell_type": "markdown",
   "metadata": {},
   "source": [
    "![ugene](./pictures/ugene_example.png)"
   ]
  },
  {
   "cell_type": "code",
   "execution_count": null,
   "metadata": {},
   "outputs": [],
   "source": []
  }
 ],
 "metadata": {
  "kernelspec": {
   "display_name": "Python 3",
   "language": "python",
   "name": "python3"
  },
  "language_info": {
   "codemirror_mode": {
    "name": "ipython",
    "version": 3
   },
   "file_extension": ".py",
   "mimetype": "text/x-python",
   "name": "python",
   "nbconvert_exporter": "python",
   "pygments_lexer": "ipython3",
   "version": "3.6.5"
  }
 },
 "nbformat": 4,
 "nbformat_minor": 2
}
